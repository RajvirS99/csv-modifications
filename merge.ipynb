{
 "cells": [
  {
   "cell_type": "code",
   "execution_count": 1,
   "metadata": {},
   "outputs": [],
   "source": [
    "import csv"
   ]
  },
  {
   "cell_type": "code",
   "execution_count": 3,
   "metadata": {},
   "outputs": [
    {
     "name": "stdout",
     "output_type": "stream",
     "text": [
      "['ID', 'Handle', 'Command', 'Title', 'Body HTML', 'Vendor', 'Type', 'Tags', 'Tags Command', 'Created At', 'Updated At', 'Status', 'Published', 'Published At', 'Published Scope', 'Template Suffix', 'Gift Card', 'URL', 'Row #', 'Top Row', 'Type: Standard ID', 'Type: Standard Name', 'Type: Standard', 'Custom Collections', 'Smart Collections', 'Variant Inventory Item ID', 'Variant ID', 'Variant Command', 'Option1 Name', 'Option1 Value', 'Option2 Name', 'Option2 Value', 'Option3 Name', 'Option3 Value', 'Variant Position', 'Variant SKU', 'Variant Barcode', 'Variant Image', 'Variant Weight', 'Variant Weight Unit', 'Variant Price', 'Variant Compare At Price', 'Variant Taxable', 'Variant Tax Code', 'Variant Inventory Tracker', 'Variant Inventory Policy', 'Variant Fulfillment Service', 'Variant Requires Shipping', 'Variant Inventory Qty', 'Variant Inventory Adjust', 'Variant Cost', 'Variant HS Code', 'Variant Country of Origin', 'Variant Province of Origin', 'Image Src', 'Image Command', 'Image Position', 'Image Width', 'Image Height', 'Image Alt Text', 'Inventory Available: Via Vittor Pisani 20', 'Inventory Available Adjust: Via Vittor Pisani 20', 'Metafield: title_tag [string]', 'Metafield: description_tag [string]', 'Metafield: brand [multi_line_text_field]', 'Metafield: linea-del-brand [multi_line_text_field]', 'Metafield: brand-string [multi_line_text_field]', 'Metafield: formato-concatenato [multi_line_text_field]', 'Metafield: formato [multi_line_text_field]', 'Metafield: ean [multi_line_text_field]', 'Metafield: formato-ita [multi_line_text_field]', 'Metafield: tipo-formato-ita [multi_line_text_field]', 'Metafield: riferimento-interno [multi_line_text_field]', 'Metafield: tipologia-utente [single_line_text_field]', 'Metafield: sottotitolo [single_line_text_field]', 'Metafield: short_description [multi_line_text_field]', 'Metafield: custom.tipologia-profumi [list.single_line_text_field]', 'Metafield: custom.famiglie-olfattive [list.single_line_text_field]', 'Metafield: custom.area-di-applicazione [list.single_line_text_field]', 'Metafield: custom.benefici [list.single_line_text_field]', 'Metafield: custom.problemi [list.single_line_text_field]', 'Metafield: custom.proprieta-prodotto [list.single_line_text_field]', 'Metafield: custom.tipologia [list.single_line_text_field]', 'Metafield: custom.formule [list.single_line_text_field]', 'Metafield: custom.tipologia-di-pelle [list.single_line_text_field]', 'Metafield: id-colore [multi_line_text_field]', 'Metafield: tonalita [single_line_text_field]', 'Metafield: materiali [single_line_text_field]', 'Metafield: maz_application_info [multi_line_text_field]', 'Metafield: consigliato-da-mazzolari [multi_line_text_field]', 'Metafield: composizione [multi_line_text_field]', 'Metafield: tecnica-di-applicazione [multi_line_text_field]', 'Metafield: spf [single_line_text_field]', 'Metafield: formati [single_line_text_field]', 'Metafield: custom.tipi-di-capelli [list.single_line_text_field]', 'Metafield: confezione-regalo [multi_line_text_field]', 'Metafield: sottotitolo [multi_line_text_field]', 'Metafield: custom.tipologia-make-up [list.single_line_text_field]', 'Metafield: formato-uk-in-fl-oz [multi_line_text_field]', 'Metafield: formato-uk-in-oz [multi_line_text_field]', 'Metafield: durezza-della-setola [multi_line_text_field]', 'Metafield: tipo-formato-uk [multi_line_text_field]', 'Metafield: nome-colore [multi_line_text_field]', 'Metafield: colore-codice-pantone [color]', 'Variant Metafield: maz_item_color_code [color]', 'Metafield: custom.copertura-make-up [list.single_line_text_field]', 'Metafield: custom.effetti_finitura [list.single_line_text_field]', 'Metafield: effetti_finitura [list.single_line_text_field]', 'Metafield: custom.color-make-up [list.single_line_text_field]', 'Metafield: colore-codice-pantone [multi_line_text_field]', 'Metafield: weight [multi_line_text_field]', 'Metafield: tipologia-indumenti [single_line_text_field]', 'Metafield: proprieta-prodotti-pulizia [single_line_text_field]', 'Metafield: tipologia-bucato-stoviglie [single_line_text_field]', 'Metafield: tessuti [single_line_text_field]', 'Metafield: durata-tinta [multi_line_text_field]', 'Metafield: profumi-nicchia-tradizionale [multi_line_text_field]', 'Metafield: customify.cstmfy_req [string]', 'Metafield: vegan [multi_line_text_field]', 'Metafield: ean [single_line_text_field]', 'Variant Metafield: fees2_generated.generated [boolean]', 'Metafield: fees2_generated.generated [boolean]', 'Metafield: tipi-di-capelli [single_line_text_field]', 'Metafield: area-di-applicazione [single_line_text_field]', 'Metafield: problemi [single_line_text_field]', 'Metafield: proprieta-prodotto [single_line_text_field]', 'Metafield: tipologia [single_line_text_field]', 'Metafield: tipologia-profumi [single_line_text_field]', 'Metafield: famiglie-olfattive [single_line_text_field]', 'Metafield: benefici [single_line_text_field]', 'Metafield: effetti-finitura [single_line_text_field]', 'Metafield: formule [single_line_text_field]', 'Metafield: tipologia-di-pelle [single_line_text_field]']\n"
     ]
    }
   ],
   "source": [
    "fieldName = []\n",
    "with open('newMasterFIle.csv', mode='r', encoding='ISO-8859-1') as csv_file:\n",
    "    csv_reader = csv.reader(csv_file)\n",
    "\n",
    "    for row in csv_reader:\n",
    "        fieldName= row\n",
    "        break\n",
    "\n",
    "print(fieldName)"
   ]
  },
  {
   "cell_type": "code",
   "execution_count": 6,
   "metadata": {},
   "outputs": [],
   "source": [
    "dataParse=dict()\n",
    "with open('parse.csv', mode='r') as csv_file:\n",
    "    csv_reader = csv.DictReader(csv_file)\n",
    "    line_count = 0\n",
    "    for row in csv_reader:\n",
    "        if line_count == 0:\n",
    "            # print(f'Column names are {\", \".join(row)}')\n",
    "            line_count +=1\n",
    "        else:\n",
    "            dataParse[row['ID']] = row\n",
    "\n",
    "    "
   ]
  },
  {
   "cell_type": "code",
   "execution_count": 8,
   "metadata": {},
   "outputs": [],
   "source": [
    "data = dict()\n",
    "with open('newMasterFIle.csv', mode='r', encoding='ISO-8859-1') as csv_file:\n",
    "    csv_reader = csv.DictReader(csv_file)\n",
    "    line_count = 0\n",
    "    for row in csv_reader:\n",
    "        if line_count == 0:\n",
    "            # print(f'Column names are {\", \".join(row)}')\n",
    "            line_count +=1\n",
    "        else:\n",
    "            # if row['Batch Month'] !='' and row['Command'] == 'MERGE':\n",
    "            data[row['ID']]=row"
   ]
  },
  {
   "cell_type": "code",
   "execution_count": 13,
   "metadata": {},
   "outputs": [
    {
     "name": "stdout",
     "output_type": "stream",
     "text": [
      "Yay\n",
      "Yay\n",
      "Yay\n",
      "Yay\n",
      "Yay\n",
      "Yay\n",
      "Yay\n",
      "Yay\n",
      "Yay\n",
      "Yay\n",
      "Yay\n",
      "Yay\n",
      "Yay\n",
      "Yay\n",
      "Yay\n",
      "Yay\n",
      "Yay\n",
      "Yay\n",
      "Yay\n",
      "Yay\n",
      "Yay\n",
      "Yay\n",
      "Yay\n",
      "Yay\n",
      "Yay\n",
      "Yay\n",
      "Yay\n",
      "Yay\n",
      "Yay\n",
      "Yay\n",
      "Yay\n",
      "Yay\n",
      "Yay\n",
      "Yay\n",
      "Yay\n",
      "Yay\n",
      "Yay\n",
      "Yay\n",
      "Yay\n",
      "Yay\n",
      "Yay\n",
      "Yay\n",
      "Yay\n",
      "Yay\n",
      "Yay\n",
      "Yay\n",
      "Yay\n"
     ]
    }
   ],
   "source": [
    "for i in dataParse:\n",
    "    for j in data:\n",
    "        if dataParse[i]['ID'] == data[j]['ID']:\n",
    "            data[j]['Title'] = dataParse[i]['Title']\n",
    "            data[j]['Body HTML'] = dataParse[i]['Body HTML']\n",
    "            data[j]['Vendor'] = dataParse[i]['Vendor']\n",
    "            data[j]['Option1 Name'] = dataParse[i]['Option1 Name']\n",
    "            data[j]['Option1 Value'] = dataParse[i]['Option1 Value']\n",
    "            data[j]['Variant SKU'] = dataParse[i]['Variant SKU']\n",
    "            data[j]['Metafield: composizione [multi_line_text_field]'] = dataParse[i]['Metafield: composizione [multi_line_text_field]']\n",
    "\n",
    "            print('Yay')\n",
    "\n",
    "\n",
    "\n"
   ]
  },
  {
   "cell_type": "code",
   "execution_count": 18,
   "metadata": {},
   "outputs": [],
   "source": [
    "with open('result.csv', mode='w') as csv_file:\n",
    "\n",
    "    writer = csv.DictWriter(csv_file, fieldnames=fieldName)\n",
    "    writer.writeheader()\n",
    "    for i in data.values():\n",
    "        writer.writerow(i)"
   ]
  },
  {
   "cell_type": "code",
   "execution_count": null,
   "metadata": {},
   "outputs": [],
   "source": []
  }
 ],
 "metadata": {
  "kernelspec": {
   "display_name": "Python 3.10.8 64-bit",
   "language": "python",
   "name": "python3"
  },
  "language_info": {
   "codemirror_mode": {
    "name": "ipython",
    "version": 3
   },
   "file_extension": ".py",
   "mimetype": "text/x-python",
   "name": "python",
   "nbconvert_exporter": "python",
   "pygments_lexer": "ipython3",
   "version": "3.10.8"
  },
  "orig_nbformat": 4,
  "vscode": {
   "interpreter": {
    "hash": "e7370f93d1d0cde622a1f8e1c04877d8463912d04d973331ad4851f04de6915a"
   }
  }
 },
 "nbformat": 4,
 "nbformat_minor": 2
}
